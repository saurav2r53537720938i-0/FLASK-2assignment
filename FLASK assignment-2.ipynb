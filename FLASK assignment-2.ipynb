{
 "cells": [
  {
   "cell_type": "markdown",
   "id": "77e1b93c-9d2d-4eb1-8d68-f5d94726bd5b",
   "metadata": {},
   "source": [
    "The GET and POST methods are HTTP request methods used for diffrent purpose:"
   ]
  },
  {
   "cell_type": "markdown",
   "id": "579ee0fd-4783-438d-b9e2-cc838c779cb8",
   "metadata": {},
   "source": [
    "* GET:used to request data form a specified resource.Parmeters are included in the URL,making them visible in the browser's adressbar. suitable for retriving data but not ideal for sensitive information due to visibility."
   ]
  },
  {
   "cell_type": "markdown",
   "id": "46d65f06-9ed1-46f4-b67a-c29c168042f2",
   "metadata": {},
   "source": [
    "* POST:used to request data from a specfied resource.Parmeters are included in the URL,making them visible in the browser providing a more secure way to transmit senstive information,like passwoards.Commonly used form submissions."
   ]
  },
  {
   "cell_type": "markdown",
   "id": "424b6f26-ba89-4d50-a581-d1dd9be5a706",
   "metadata": {},
   "source": [
    "In flask,the request object is used to access incoming request data,whether it form from submission,query parameters,or other HTTP request elements.it provides a convenient way to interact with the data sent by client to the server.\n",
    "Here are some common uses of the request object in flask:"
   ]
  },
  {
   "cell_type": "markdown",
   "id": "800050d3-61cf-4698-a1bf-196bf4886c3d",
   "metadata": {},
   "source": [
    "1. Accessing form data\n",
    "2. Handling query parmeters\n",
    "3. Working with JSON Data\n",
    "4. File upload\n",
    "5. Accessing Headers and Cookies"
   ]
  },
  {
   "cell_type": "markdown",
   "id": "c08dc308-191a-47f9-9283-01f94941f3c8",
   "metadata": {},
   "source": [
    "In Flask the redirect function is used to send a client's browser to a diffrent location ,typically in response to a particular action or request.it's often employed after processing a form submission or completing some operation ,redirecting the user to a different page.\n",
    "Here are some common scenarios where redirect is used:"
   ]
  },
  {
   "cell_type": "markdown",
   "id": "e71fcb6f-0b1b-425f-884d-cdda587aad09",
   "metadata": {},
   "source": [
    "1. Form submission\n",
    "2. Changing URL or Route\n",
    "3. Handling Authentication"
   ]
  },
  {
   "cell_type": "markdown",
   "id": "68e25fe5-aa22-42a7-9985-1c633e5deccf",
   "metadata": {},
   "source": [
    "In Flask,templates are used to seprate the structured of an HTML page from the actual data and business logic.Templates allow you to dynamically genrates HTML content by embedding placeholder for variables and control structured within the HTML code .This makes it easier to manage and organised your web application.\n",
    "\n",
    "The render_templates function in flask is used to render these templates and send them as   name of the templates file as an argument and any addtionl  variable you want to pass to the template."
   ]
  },
  {
   "cell_type": "markdown",
   "id": "2b0dd1df-83b2-44d6-bfcf-5ce9f54df6fb",
   "metadata": {},
   "source": [
    "for example if you have a template named \"index.html\" and you want to render it with a variable called username you can use \n",
    "render_templates('index.html') username ='john').This function not only renders the HTML but also injects the values you pass ,making it easy to "
   ]
  }
 ],
 "metadata": {
  "kernelspec": {
   "display_name": "Python 3 (ipykernel)",
   "language": "python",
   "name": "python3"
  },
  "language_info": {
   "codemirror_mode": {
    "name": "ipython",
    "version": 3
   },
   "file_extension": ".py",
   "mimetype": "text/x-python",
   "name": "python",
   "nbconvert_exporter": "python",
   "pygments_lexer": "ipython3",
   "version": "3.10.8"
  }
 },
 "nbformat": 4,
 "nbformat_minor": 5
}
